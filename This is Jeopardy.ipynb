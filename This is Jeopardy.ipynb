{
 "cells": [
  {
   "cell_type": "markdown",
   "metadata": {},
   "source": [
    "# This is Jeopardy!"
   ]
  },
  {
   "cell_type": "markdown",
   "metadata": {},
   "source": [
    "#### Overview"
   ]
  },
  {
   "cell_type": "markdown",
   "metadata": {},
   "source": [
    "This project is slightly different than others you have encountered thus far. Instead of a step-by-step tutorial, this project contains a series of open-ended requirements which describe the project you'll be building. There are many possible ways to correctly fulfill all of these requirements, and you should expect to use the internet, Codecademy, and/or other resources when you encounter a problem that you cannot easily solve."
   ]
  },
  {
   "cell_type": "markdown",
   "metadata": {},
   "source": [
    "#### Project Goals"
   ]
  },
  {
   "cell_type": "markdown",
   "metadata": {},
   "source": [
    "You will work to write several functions that investigate a dataset of _Jeopardy!_ questions and answers. Filter the dataset for topics that you're interested in, compute the average difficulty of those questions, and train to become the next Jeopardy champion!"
   ]
  },
  {
   "cell_type": "markdown",
   "metadata": {},
   "source": [
    "## Prerequisites"
   ]
  },
  {
   "cell_type": "markdown",
   "metadata": {},
   "source": [
    "In order to complete this project, you should have completed the Pandas lessons in the <a href=\"https://www.codecademy.com/learn/paths/analyze-data-with-python\">Analyze Data with Python Skill Path</a>. You can also find those lessons in the <a href=\"https://www.codecademy.com/learn/data-processing-pandas\">Data Analysis with Pandas course</a> or the <a href=\"https://www.codecademy.com/learn/paths/data-science/\">Data Scientist Career Path</a>.\n",
    "\n",
    "Finally, the <a href=\"https://www.codecademy.com/learn/practical-data-cleaning\">Practical Data Cleaning</a> course may also be helpful."
   ]
  },
  {
   "cell_type": "markdown",
   "metadata": {},
   "source": [
    "## Project Requirements"
   ]
  },
  {
   "cell_type": "markdown",
   "metadata": {},
   "source": [
    "1. We've provided a csv file containing data about the game show _Jeopardy!_ in a file named `jeopardy.csv`. Load the data into a DataFrame and investigate its contents. Try to print out specific columns.\n",
    "\n",
    "   Note that in order to make this project as \"real-world\" as possible, we haven't modified the data at all - we're giving it to you exactly how we found it. As a result, this data isn't as \"clean\" as the datasets you normally find on Codecademy. More specifically, there's something odd about the column names. After you figure out the problem with the column names, you may want to rename them to make your life easier for the rest of the project.\n",
    "   \n",
    "   In order to display the full contents of a column, we've added this line of code for you:\n",
    "   \n",
    "   ```py\n",
    "   pd.set_option('display.max_colwidth', None)\n",
    "   ```"
   ]
  },
  {
   "cell_type": "code",
   "execution_count": 7,
   "metadata": {},
   "outputs": [
    {
     "name": "stdout",
     "output_type": "stream",
     "text": [
      "Index(['Show Number', ' Air Date', ' Round', ' Category', ' Value',\n",
      "       ' Question', ' Answer'],\n",
      "      dtype='object')\n"
     ]
    }
   ],
   "source": [
    "import pandas as pd\n",
    "pd.set_option('display.max_colwidth', None)\n",
    "\n",
    "df = pd.read_csv(\"jeopardy.csv\")\n",
    "print(df.columns)"
   ]
  },
  {
   "cell_type": "markdown",
   "metadata": {},
   "source": [
    "2. Write a function that filters the dataset for questions that contains all of the words in a list of words. For example, when the list `[\"King\", \"England\"]` was passed to our function, the function returned a DataFrame of 49 rows. Every row had the strings `\"King\"` and `\"England\"` somewhere in its `\" Question\"`.\n",
    "\n",
    "   Test your function by printing out the column containing the question of each row of the dataset."
   ]
  },
  {
   "cell_type": "code",
   "execution_count": 13,
   "metadata": {},
   "outputs": [
    {
     "name": "stdout",
     "output_type": "stream",
     "text": [
      "        Show Number    Air Date             Round               Category  \\\n",
      "6337           3517  1999-12-14  Double Jeopardy!                    Y1K   \n",
      "74611          3153  1998-04-22  Double Jeopardy!  GUYS WHO FOUND THINGS   \n",
      "148050         1660  1991-11-15  Double Jeopardy!            THE VIKINGS   \n",
      "183694         6269  2011-12-15  Double Jeopardy!             TIMES PAST   \n",
      "208295         4621  2004-10-11         Jeopardy!            THE VIKINGS   \n",
      "\n",
      "        Value  \\\n",
      "6337     $800   \n",
      "74611   $1000   \n",
      "148050  $1000   \n",
      "183694  $2000   \n",
      "208295   $600   \n",
      "\n",
      "                                                                                                               Question  \\\n",
      "6337             In retaliation for Viking raids, this \"Unready\" king of England attacks Norse areas of the Isle of Man   \n",
      "74611         In 1497 this Venetian sailing for England became the first European since the Vikings to reach N. America   \n",
      "148050                       In the late 800s, this king of Wessex prevented the Vikings from conquering all of England   \n",
      "183694  By 878 the Vikings had conquered all of England except for this southern kingdom controlled by Alfred the Great   \n",
      "208295               In 1066 this great-great grandson of Rollo made what some call the last Viking invasion of England   \n",
      "\n",
      "                       Answer  \n",
      "6337                 Ethelred  \n",
      "74611              John Cabot  \n",
      "148050       Alfred the Great  \n",
      "183694                 Wessex  \n",
      "208295  William the Conqueror  \n"
     ]
    }
   ],
   "source": [
    "def filter_questions_by_words(df, words):\n",
    "    filter_condition = df[' Question'].str.contains('|'.join(words), case=False, na=False)\n",
    "    for word in words:\n",
    "        filter_condition &= df[' Question'].str.contains(word, case=False, na=False)\n",
    "    return df[filter_condition]"
   ]
  },
  {
   "cell_type": "markdown",
   "metadata": {},
   "source": [
    "3. Test your original function with a few different sets of words to try to find some ways your function breaks. Edit your function so it is more robust.\n",
    "\n",
    "   For example, think about capitalization. We probably want to find questions that contain the word `\"King\"` or `\"king\"`.\n",
    "   \n",
    "   You may also want to check to make sure you don't find rows that contain substrings of your given words. For example, our function found a question that didn't contain the word `\"king\"`, however it did contain the word `\"viking\"` &mdash; it found the `\"king\"` inside `\"viking\"`. Note that this also comes with some drawbacks &mdash; you would no longer find questions that contained words like `\"England's\"`."
   ]
  },
  {
   "cell_type": "code",
   "execution_count": 14,
   "metadata": {},
   "outputs": [
    {
     "name": "stdout",
     "output_type": "stream",
     "text": [
      "        Show Number    Air Date             Round               Category  \\\n",
      "6337           3517  1999-12-14  Double Jeopardy!                    Y1K   \n",
      "74611          3153  1998-04-22  Double Jeopardy!  GUYS WHO FOUND THINGS   \n",
      "148050         1660  1991-11-15  Double Jeopardy!            THE VIKINGS   \n",
      "183694         6269  2011-12-15  Double Jeopardy!             TIMES PAST   \n",
      "208295         4621  2004-10-11         Jeopardy!            THE VIKINGS   \n",
      "\n",
      "        Value  \\\n",
      "6337     $800   \n",
      "74611   $1000   \n",
      "148050  $1000   \n",
      "183694  $2000   \n",
      "208295   $600   \n",
      "\n",
      "                                                                                                               Question  \\\n",
      "6337             In retaliation for Viking raids, this \"Unready\" king of England attacks Norse areas of the Isle of Man   \n",
      "74611         In 1497 this Venetian sailing for England became the first European since the Vikings to reach N. America   \n",
      "148050                       In the late 800s, this king of Wessex prevented the Vikings from conquering all of England   \n",
      "183694  By 878 the Vikings had conquered all of England except for this southern kingdom controlled by Alfred the Great   \n",
      "208295               In 1066 this great-great grandson of Rollo made what some call the last Viking invasion of England   \n",
      "\n",
      "                       Answer  \n",
      "6337                 Ethelred  \n",
      "74611              John Cabot  \n",
      "148050       Alfred the Great  \n",
      "183694                 Wessex  \n",
      "208295  William the Conqueror  \n"
     ]
    }
   ],
   "source": [
    "filtered_df = filter_questions_by_words(df, [\"viking\", \"england\"])\n",
    "print(filtered_df)"
   ]
  },
  {
   "cell_type": "markdown",
   "metadata": {},
   "source": [
    "4. We may want to eventually compute aggregate statistics, like `.mean()` on the `\" Value\"` column. But right now, the values in that column are strings. Convert the`\" Value\"` column to floats. If you'd like to, you can create a new column with float values.\n",
    "\n",
    "   While most of the values in the `\" Value\"` column represent a dollar amount as a string, note that some do not &mdash; these values will need to be handled differently!\n",
    "\n",
    "   Now that you can filter the dataset of question, use your new column that contains the float values of each question to find the \"difficulty\" of certain topics. For example, what is the average value of questions that contain the word `\"King\"`?\n",
    "   \n",
    "   Make sure to use the dataset that contains the float values as the dataset you use in your filtering function."
   ]
  },
  {
   "cell_type": "code",
   "execution_count": 17,
   "metadata": {},
   "outputs": [
    {
     "name": "stderr",
     "output_type": "stream",
     "text": [
      "<>:3: SyntaxWarning: invalid escape sequence '\\$'\n",
      "<>:3: SyntaxWarning: invalid escape sequence '\\$'\n",
      "/var/folders/ls/kf9g7xrs0_911t1_z4wchr1r0000gn/T/ipykernel_27353/993845384.py:3: SyntaxWarning: invalid escape sequence '\\$'\n",
      "  df['Value (Float)'] = df[' Value'].replace('[\\$,]', '', regex=True)\n"
     ]
    },
    {
     "name": "stdout",
     "output_type": "stream",
     "text": [
      "   Value  Value (Float)\n",
      "0   $200          200.0\n",
      "1   $200          200.0\n",
      "2   $200          200.0\n",
      "3   $200          200.0\n",
      "4   $200          200.0\n",
      "Mean Value: 752.5959230365314\n"
     ]
    }
   ],
   "source": [
    "def convert_value_to_float(df):\n",
    "    # Replace dollar signs and commas, handle missing values, and convert to float\n",
    "    df['Value (Float)'] = df[' Value'].replace('[\\$,]', '', regex=True)\n",
    "    \n",
    "    # Convert to numeric, coercing errors to NaN\n",
    "    df['Value (Float)'] = pd.to_numeric(df['Value (Float)'], errors='coerce')\n",
    "    \n",
    "    return df\n",
    "\n",
    "# Example usage\n",
    "df = convert_value_to_float(df)\n",
    "print(df[[' Value', 'Value (Float)']].head())\n",
    "\n",
    "# Example: Calculate the mean of the new 'Value (Float)' column, ignoring NaN values\n",
    "mean_value = df['Value (Float)'].mean()\n",
    "print(\"Mean Value:\", mean_value)\n"
   ]
  },
  {
   "cell_type": "markdown",
   "metadata": {},
   "source": [
    "5. Write a function that returns the count of unique answers to all of the questions in a dataset. For example, after filtering the entire dataset to only questions containing the word `\"King\"`, we could then find all of the unique answers to those questions. The answer \"Henry VIII\" appeared 55 times and was the most common answer."
   ]
  },
  {
   "cell_type": "code",
   "execution_count": 19,
   "metadata": {},
   "outputs": [
    {
     "name": "stdout",
     "output_type": "stream",
     "text": [
      " Answer\n",
      "Henry VIII                   55\n",
      "Solomon                      35\n",
      "Richard III                  33\n",
      "Louis XIV                    31\n",
      "David                        30\n",
      "                             ..\n",
      "cardiac (in card I acted)     1\n",
      "Henderson                     1\n",
      "Computer                      1\n",
      "Indians                       1\n",
      "work                          1\n",
      "Name: count, Length: 5268, dtype: int64\n"
     ]
    }
   ],
   "source": [
    "def count_unique_answers(df, keyword):\n",
    "    # Filter questions containing the keyword\n",
    "    filtered_df = df[df[' Question'].str.contains(keyword, case=False, na=False)]\n",
    "    # Count unique answers and their occurrences\n",
    "    answer_counts = filtered_df[' Answer'].value_counts()\n",
    "    return answer_counts\n",
    "# Example usage\n",
    "keyword_answers = count_unique_answers(df, \"King\")\n",
    "print(keyword_answers)"
   ]
  },
  {
   "cell_type": "markdown",
   "metadata": {},
   "source": [
    "6. Explore from here! This is an incredibly rich dataset, and there are so many interesting things to discover. There are a few columns that we haven't even started looking at yet. Here are some ideas on ways to continue working with this data:\n",
    "\n",
    " * Investigate the ways in which questions change over time by filtering by the date. How many questions from the 90s use the word `\"Computer\"` compared to questions from the 2000s?\n",
    " * Is there a connection between the round and the category? Are you more likely to find certain categories, like `\"Literature\"` in Single Jeopardy or Double Jeopardy?\n",
    " * Build a system to quiz yourself. Grab random questions, and use the <a href=\"https://docs.python.org/3/library/functions.html#input\">input</a> function to get a response from the user. Check to see if that response was right or wrong."
   ]
  },
  {
   "cell_type": "code",
   "execution_count": 21,
   "metadata": {},
   "outputs": [
    {
     "name": "stdout",
     "output_type": "stream",
     "text": [
      "Number of 'Computer' questions in the 90s: 98\n",
      "Number of 'Computer' questions in the 2000s: 268\n",
      " Round\n",
      "Double Jeopardy!     BEFORE & AFTER\n",
      "Final Jeopardy!     U.S. PRESIDENTS\n",
      "Jeopardy!                 POTPOURRI\n",
      "Tiebreaker             CHILD'S PLAY\n",
      "dtype: object\n",
      "Wrong. The correct answer was: Billy the Kid\n"
     ]
    }
   ],
   "source": [
    "def count_keyword_by_decade(df, keyword, start_year, end_year):\n",
    "    # Convert ' Air Date' to datetime\n",
    "    df[' Air Date'] = pd.to_datetime(df[' Air Date'])\n",
    "    \n",
    "    # Filter questions by the specified decade\n",
    "    decade_df = df[(df[' Air Date'].dt.year >= start_year) & (df[' Air Date'].dt.year <= end_year)]\n",
    "    \n",
    "    # Count the occurrences of the keyword in the ' Question' column\n",
    "    keyword_count = decade_df[' Question'].str.contains(keyword, case=False, na=False).sum()\n",
    "    \n",
    "    return keyword_count\n",
    "\n",
    "# Example usage: Compare the word \"Computer\" in the 90s and 2000s\n",
    "count_90s = count_keyword_by_decade(df, \"Computer\", 1990, 1999)\n",
    "count_2000s = count_keyword_by_decade(df, \"Computer\", 2000, 2009)\n",
    "\n",
    "print(f\"Number of 'Computer' questions in the 90s: {count_90s}\")\n",
    "print(f\"Number of 'Computer' questions in the 2000s: {count_2000s}\")\n",
    "\n",
    "def round_category_analysis(df):\n",
    "    # Group by ' Round' and ' Category' and count occurrences\n",
    "    round_category_counts = df.groupby([' Round', ' Category']).size().unstack().fillna(0)\n",
    "    \n",
    "    return round_category_counts\n",
    "\n",
    "# Example usage: Analyze the connection between round and category\n",
    "round_category_df = round_category_analysis(df)\n",
    "\n",
    "# Display categories that appear most often in each round\n",
    "print(round_category_df.idxmax(axis=1))  # This will show the most common category for each round\n",
    "\n",
    "import random\n",
    "\n",
    "def quiz_yourself(df):\n",
    "    while True:\n",
    "        # Grab a random question\n",
    "        random_row = df.sample(n=1).iloc[0]\n",
    "        question = random_row[' Question']\n",
    "        correct_answer = random_row[' Answer']\n",
    "        \n",
    "        # Ask the question\n",
    "        user_answer = input(f\"Question: {question}\\nYour Answer: \")\n",
    "        \n",
    "        # Check if the answer is correct\n",
    "        if user_answer.strip().lower() == correct_answer.strip().lower():\n",
    "            print(\"Correct!\")\n",
    "        else:\n",
    "            print(f\"Wrong. The correct answer was: {correct_answer}\")\n",
    "        \n",
    "        # Ask if they want to play again\n",
    "        play_again = input(\"Do you want to try another question? (yes/no): \")\n",
    "        if play_again.strip().lower() != 'yes':\n",
    "            break\n",
    "\n",
    "# Example usage: Start the quiz\n",
    "quiz_yourself(df)\n"
   ]
  },
  {
   "cell_type": "markdown",
   "metadata": {},
   "source": [
    "## Solution"
   ]
  },
  {
   "cell_type": "markdown",
   "metadata": {},
   "source": [
    "7. Compare your program to our <a href=\"https://content.codecademy.com/PRO/independent-practice-projects/jeopardy/jeopardy_solution.zip\">sample solution code</a> - remember, that your program might look different from ours (and probably will) and that's okay!"
   ]
  },
  {
   "cell_type": "markdown",
   "metadata": {},
   "source": [
    "8. Great work! Visit <a href=\"https://discuss.codecademy.com/t/this-is-jeopardy-challenge-project-python-pandas/462365\">our forums</a> to compare your project to our sample solution code. You can also learn how to host your own solution on GitHub so you can share it with other learners! Your solution might look different from ours, and that's okay! There are multiple ways to solve these projects, and you'll learn more by seeing others' code."
   ]
  },
  {
   "cell_type": "code",
   "execution_count": null,
   "metadata": {},
   "outputs": [],
   "source": []
  }
 ],
 "metadata": {
  "kernelspec": {
   "display_name": "Python 3 (ipykernel)",
   "language": "python",
   "name": "python3"
  },
  "language_info": {
   "codemirror_mode": {
    "name": "ipython",
    "version": 3
   },
   "file_extension": ".py",
   "mimetype": "text/x-python",
   "name": "python",
   "nbconvert_exporter": "python",
   "pygments_lexer": "ipython3",
   "version": "3.12.4"
  }
 },
 "nbformat": 4,
 "nbformat_minor": 2
}
